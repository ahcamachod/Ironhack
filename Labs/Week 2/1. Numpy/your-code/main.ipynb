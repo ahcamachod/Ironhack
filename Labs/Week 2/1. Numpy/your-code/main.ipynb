{
 "cells": [
  {
   "cell_type": "markdown",
   "metadata": {
    "colab_type": "text",
    "id": "-we_8UVrwCc1"
   },
   "source": [
    "# Intrduction to NumPy\n",
    "\n",
    "\n",
    "#### 1. Import NumPy under the name np."
   ]
  },
  {
   "cell_type": "code",
   "execution_count": 30,
   "metadata": {
    "colab": {},
    "colab_type": "code",
    "id": "3fRJ8mtHwCc5"
   },
   "outputs": [],
   "source": [
    "# your code here\n",
    "\n",
    "import numpy as np"
   ]
  },
  {
   "cell_type": "markdown",
   "metadata": {
    "colab_type": "text",
    "id": "8Xtbl_EvwCc9"
   },
   "source": [
    "#### 2. Print your NumPy version."
   ]
  },
  {
   "cell_type": "code",
   "execution_count": 31,
   "metadata": {
    "colab": {},
    "colab_type": "code",
    "id": "BlegxuJVwCc-"
   },
   "outputs": [
    {
     "data": {
      "text/plain": [
       "'1.18.1'"
      ]
     },
     "execution_count": 31,
     "metadata": {},
     "output_type": "execute_result"
    }
   ],
   "source": [
    "# your code here\n",
    "\n",
    "np.__version__"
   ]
  },
  {
   "cell_type": "markdown",
   "metadata": {
    "colab_type": "text",
    "id": "FpKgyatowCdC"
   },
   "source": [
    "#### 3. Generate a 2x3x5 3-dimensional array with random values. Assign the array to variable *a*.\n",
    "**Challenge**: there are at least three easy ways that use numpy to generate random arrays. How many ways can you find?"
   ]
  },
  {
   "cell_type": "code",
   "execution_count": 32,
   "metadata": {
    "colab": {},
    "colab_type": "code",
    "id": "609Z4Zn3wCdD"
   },
   "outputs": [
    {
     "data": {
      "text/plain": [
       "array([[[0.57602055, 0.84393233, 0.25696653, 0.71244133, 0.74727579],\n",
       "        [0.74831449, 0.66928486, 0.6512054 , 0.93586804, 0.66729981],\n",
       "        [0.03733562, 0.82027444, 0.26341584, 0.68382734, 0.22448658]],\n",
       "\n",
       "       [[0.37133543, 0.36042805, 0.58137449, 0.83027349, 0.20150426],\n",
       "        [0.57289092, 0.80028221, 0.76941131, 0.21039955, 0.30952289],\n",
       "        [0.71946101, 0.10541037, 0.62444615, 0.2524541 , 0.84429406]]])"
      ]
     },
     "execution_count": 32,
     "metadata": {},
     "output_type": "execute_result"
    }
   ],
   "source": [
    "# Method 1\n",
    "\n",
    "a = np.random.random(size=(2,3,5))\n",
    "a"
   ]
  },
  {
   "cell_type": "code",
   "execution_count": 33,
   "metadata": {
    "colab": {},
    "colab_type": "code",
    "id": "q6dKJNO4wCdH"
   },
   "outputs": [
    {
     "data": {
      "text/plain": [
       "array([[[0.34295926, 0.57028555, 0.56915601, 0.01100443, 0.59521286],\n",
       "        [0.68074886, 0.86831664, 0.91822875, 0.43050629, 0.02828349],\n",
       "        [0.32970262, 0.46604596, 0.89114711, 0.70994633, 0.54544709]],\n",
       "\n",
       "       [[0.93885643, 0.65101324, 0.39363976, 0.29590134, 0.77542642],\n",
       "        [0.35209785, 0.29886305, 0.81543919, 0.38485274, 0.95738214],\n",
       "        [0.95781636, 0.10844123, 0.08981575, 0.07355936, 0.48087691]]])"
      ]
     },
     "execution_count": 33,
     "metadata": {},
     "output_type": "execute_result"
    }
   ],
   "source": [
    "# Method 2\n",
    "\n",
    "np.array(np.random.random(size=(2,3,5)))"
   ]
  },
  {
   "cell_type": "code",
   "execution_count": 34,
   "metadata": {
    "colab": {},
    "colab_type": "code",
    "id": "xILn36GWwCdK"
   },
   "outputs": [],
   "source": [
    "# Method 3"
   ]
  },
  {
   "cell_type": "markdown",
   "metadata": {
    "colab_type": "text",
    "id": "aMHxBSCDwCdP"
   },
   "source": [
    "#### 4. Print *a*.\n"
   ]
  },
  {
   "cell_type": "code",
   "execution_count": 35,
   "metadata": {
    "colab": {},
    "colab_type": "code",
    "id": "N_NYL3pHwCdQ"
   },
   "outputs": [
    {
     "data": {
      "text/plain": [
       "array([[[0.57602055, 0.84393233, 0.25696653, 0.71244133, 0.74727579],\n",
       "        [0.74831449, 0.66928486, 0.6512054 , 0.93586804, 0.66729981],\n",
       "        [0.03733562, 0.82027444, 0.26341584, 0.68382734, 0.22448658]],\n",
       "\n",
       "       [[0.37133543, 0.36042805, 0.58137449, 0.83027349, 0.20150426],\n",
       "        [0.57289092, 0.80028221, 0.76941131, 0.21039955, 0.30952289],\n",
       "        [0.71946101, 0.10541037, 0.62444615, 0.2524541 , 0.84429406]]])"
      ]
     },
     "execution_count": 35,
     "metadata": {},
     "output_type": "execute_result"
    }
   ],
   "source": [
    "# your code here\n",
    "\n",
    "a"
   ]
  },
  {
   "cell_type": "markdown",
   "metadata": {
    "colab_type": "text",
    "id": "kws-mAPSwCdU"
   },
   "source": [
    "#### 5. Create a 5x2x3 3-dimensional array with all values equaling 1. Assign the array to variable *b*."
   ]
  },
  {
   "cell_type": "code",
   "execution_count": 36,
   "metadata": {
    "colab": {},
    "colab_type": "code",
    "id": "anCmbtrtwCdW"
   },
   "outputs": [],
   "source": [
    "# your code here\n",
    "\n",
    "b = np.ones((5,2,3))"
   ]
  },
  {
   "cell_type": "markdown",
   "metadata": {
    "colab_type": "text",
    "id": "FsYdwPxPwCdZ"
   },
   "source": [
    "#### 6. Print *b*.\n"
   ]
  },
  {
   "cell_type": "code",
   "execution_count": 37,
   "metadata": {
    "colab": {},
    "colab_type": "code",
    "id": "Y3rcPurpwCda"
   },
   "outputs": [
    {
     "data": {
      "text/plain": [
       "array([[[1., 1., 1.],\n",
       "        [1., 1., 1.]],\n",
       "\n",
       "       [[1., 1., 1.],\n",
       "        [1., 1., 1.]],\n",
       "\n",
       "       [[1., 1., 1.],\n",
       "        [1., 1., 1.]],\n",
       "\n",
       "       [[1., 1., 1.],\n",
       "        [1., 1., 1.]],\n",
       "\n",
       "       [[1., 1., 1.],\n",
       "        [1., 1., 1.]]])"
      ]
     },
     "execution_count": 37,
     "metadata": {},
     "output_type": "execute_result"
    }
   ],
   "source": [
    "# your code here\n",
    "b"
   ]
  },
  {
   "cell_type": "markdown",
   "metadata": {
    "colab_type": "text",
    "id": "hGblsnk5wCde"
   },
   "source": [
    "#### 7. Do *a* and *b* have the same size? How do you prove that in Python code?"
   ]
  },
  {
   "cell_type": "code",
   "execution_count": 38,
   "metadata": {
    "colab": {},
    "colab_type": "code",
    "id": "YmKeIpGWwCdf"
   },
   "outputs": [
    {
     "name": "stdout",
     "output_type": "stream",
     "text": [
      "a and b have the same size\n"
     ]
    }
   ],
   "source": [
    "# your code here\n",
    "\n",
    "if np.size(a) == np.size(b):\n",
    "    print('a and b have the same size')\n",
    "else:\n",
    "    print(\"a and b don't have the same size\")"
   ]
  },
  {
   "cell_type": "markdown",
   "metadata": {
    "colab_type": "text",
    "id": "o9UzXk9IwCdi"
   },
   "source": [
    "#### 8. Are you able to add *a* and *b*? Why or why not?\n"
   ]
  },
  {
   "cell_type": "code",
   "execution_count": 39,
   "metadata": {
    "colab": {},
    "colab_type": "code",
    "id": "drdAyKPywCdj"
   },
   "outputs": [
    {
     "name": "stdout",
     "output_type": "stream",
     "text": [
      "The shape of the arrays are different.\n"
     ]
    }
   ],
   "source": [
    "# your answer here\n",
    "\n",
    "try:\n",
    "    a + b\n",
    "except:\n",
    "    print('The shape of the arrays are different.')"
   ]
  },
  {
   "cell_type": "markdown",
   "metadata": {
    "colab_type": "text",
    "id": "DTsSOpvYwCdm"
   },
   "source": [
    "#### 9. Reshape *b* so that it has the same structure of *a* (i.e. become a 2x3x5 array). Assign the reshaped array to variable *c*."
   ]
  },
  {
   "cell_type": "code",
   "execution_count": 40,
   "metadata": {
    "colab": {},
    "colab_type": "code",
    "id": "DjLlRJUtwCdn"
   },
   "outputs": [
    {
     "data": {
      "text/plain": [
       "array([[[1., 1., 1., 1., 1.],\n",
       "        [1., 1., 1., 1., 1.],\n",
       "        [1., 1., 1., 1., 1.]],\n",
       "\n",
       "       [[1., 1., 1., 1., 1.],\n",
       "        [1., 1., 1., 1., 1.],\n",
       "        [1., 1., 1., 1., 1.]]])"
      ]
     },
     "execution_count": 40,
     "metadata": {},
     "output_type": "execute_result"
    }
   ],
   "source": [
    "# your code here\n",
    "\n",
    "c = b.reshape(2,3,5)\n",
    "c"
   ]
  },
  {
   "cell_type": "markdown",
   "metadata": {
    "colab_type": "text",
    "id": "fvHocQ9EwCdq"
   },
   "source": [
    "#### 10. Try to add *a* and *c*. Now it should work. Assign the sum to variable *d*. But why does it work now?"
   ]
  },
  {
   "cell_type": "code",
   "execution_count": 41,
   "metadata": {
    "colab": {},
    "colab_type": "code",
    "id": "Ohf5yh5ZwCdr"
   },
   "outputs": [
    {
     "name": "stdout",
     "output_type": "stream",
     "text": [
      "[[[1.57602055 1.84393233 1.25696653 1.71244133 1.74727579]\n",
      "  [1.74831449 1.66928486 1.6512054  1.93586804 1.66729981]\n",
      "  [1.03733562 1.82027444 1.26341584 1.68382734 1.22448658]]\n",
      "\n",
      " [[1.37133543 1.36042805 1.58137449 1.83027349 1.20150426]\n",
      "  [1.57289092 1.80028221 1.76941131 1.21039955 1.30952289]\n",
      "  [1.71946101 1.10541037 1.62444615 1.2524541  1.84429406]]]\n",
      "\n",
      "\n",
      "The arrays have the same shape\n"
     ]
    }
   ],
   "source": [
    "# your code/answer here\n",
    "\n",
    "d = a + c\n",
    "d\n",
    "\n",
    "print(d)\n",
    "print('\\n')\n",
    "print('The arrays have the same shape')"
   ]
  },
  {
   "cell_type": "markdown",
   "metadata": {
    "colab_type": "text",
    "id": "DuQBMzQBwCdw"
   },
   "source": [
    "#### 11. Print *a* and *d*. Notice the difference and relation of the two array in terms of the values? Explain."
   ]
  },
  {
   "cell_type": "code",
   "execution_count": 42,
   "metadata": {
    "colab": {},
    "colab_type": "code",
    "id": "gEuh7iv1wCdx"
   },
   "outputs": [
    {
     "name": "stdout",
     "output_type": "stream",
     "text": [
      "a:  [[[0.57602055 0.84393233 0.25696653 0.71244133 0.74727579]\n",
      "  [0.74831449 0.66928486 0.6512054  0.93586804 0.66729981]\n",
      "  [0.03733562 0.82027444 0.26341584 0.68382734 0.22448658]]\n",
      "\n",
      " [[0.37133543 0.36042805 0.58137449 0.83027349 0.20150426]\n",
      "  [0.57289092 0.80028221 0.76941131 0.21039955 0.30952289]\n",
      "  [0.71946101 0.10541037 0.62444615 0.2524541  0.84429406]]]\n",
      "\n",
      "\n",
      "\n",
      "\n",
      "d:  [[[1.57602055 1.84393233 1.25696653 1.71244133 1.74727579]\n",
      "  [1.74831449 1.66928486 1.6512054  1.93586804 1.66729981]\n",
      "  [1.03733562 1.82027444 1.26341584 1.68382734 1.22448658]]\n",
      "\n",
      " [[1.37133543 1.36042805 1.58137449 1.83027349 1.20150426]\n",
      "  [1.57289092 1.80028221 1.76941131 1.21039955 1.30952289]\n",
      "  [1.71946101 1.10541037 1.62444615 1.2524541  1.84429406]]]\n",
      "\n",
      "\n",
      "\n",
      "\n",
      "d = a + 1\n"
     ]
    }
   ],
   "source": [
    "# your code/answer here\n",
    "\n",
    "print('a: ', a)\n",
    "print('\\n' * 3)\n",
    "print('d: ', d)\n",
    "print('\\n' * 3)\n",
    "print('d = a + 1')"
   ]
  },
  {
   "cell_type": "markdown",
   "metadata": {
    "colab_type": "text",
    "id": "Ka1popJ3wCd0"
   },
   "source": [
    "#### 12. Multiply *a* and *c*. Assign the result to *e*."
   ]
  },
  {
   "cell_type": "code",
   "execution_count": 43,
   "metadata": {
    "colab": {},
    "colab_type": "code",
    "id": "hLeCMiSEwCd1"
   },
   "outputs": [
    {
     "data": {
      "text/plain": [
       "array([[[0.57602055, 0.84393233, 0.25696653, 0.71244133, 0.74727579],\n",
       "        [0.74831449, 0.66928486, 0.6512054 , 0.93586804, 0.66729981],\n",
       "        [0.03733562, 0.82027444, 0.26341584, 0.68382734, 0.22448658]],\n",
       "\n",
       "       [[0.37133543, 0.36042805, 0.58137449, 0.83027349, 0.20150426],\n",
       "        [0.57289092, 0.80028221, 0.76941131, 0.21039955, 0.30952289],\n",
       "        [0.71946101, 0.10541037, 0.62444615, 0.2524541 , 0.84429406]]])"
      ]
     },
     "execution_count": 43,
     "metadata": {},
     "output_type": "execute_result"
    }
   ],
   "source": [
    "# your code here\n",
    "\n",
    "e = a * c\n",
    "e"
   ]
  },
  {
   "cell_type": "markdown",
   "metadata": {
    "colab_type": "text",
    "id": "1QCqP6lMwCd5"
   },
   "source": [
    "#### 13. Does *e* equal to *a*? Why or why not?\n"
   ]
  },
  {
   "cell_type": "code",
   "execution_count": 44,
   "metadata": {
    "colab": {},
    "colab_type": "code",
    "id": "oxoat0cbwCd6"
   },
   "outputs": [
    {
     "name": "stdout",
     "output_type": "stream",
     "text": [
      "e is equal to a\n",
      "\n",
      "All values in \"a\" were multiplied by 1\n"
     ]
    }
   ],
   "source": [
    "# your code/answer here\n",
    "\n",
    "if e.all() == a.all():\n",
    "    print('e is equal to a')\n",
    "    print('\\nAll values in \"a\" were multiplied by 1')"
   ]
  },
  {
   "cell_type": "markdown",
   "metadata": {
    "colab_type": "text",
    "id": "b7ceZMcswCd9"
   },
   "source": [
    "#### 14. Identify the max, min, and mean values in *d*. Assign those values to variables *d_max*, *d_min* and *d_mean*."
   ]
  },
  {
   "cell_type": "code",
   "execution_count": 45,
   "metadata": {
    "colab": {},
    "colab_type": "code",
    "id": "ljd7J4ucwCd-"
   },
   "outputs": [
    {
     "name": "stdout",
     "output_type": "stream",
     "text": [
      "max = 1.9358680411589195, min = 1.03733562332595, mean = 1.546381241383517\n"
     ]
    }
   ],
   "source": [
    "# your code here\n",
    "\n",
    "d_max = np.max(d)\n",
    "d_min = np.min(d)\n",
    "d_mean = np.mean(d)\n",
    "\n",
    "print(f'max = {d_max}, min = {d_min}, mean = {d_mean}')"
   ]
  },
  {
   "cell_type": "markdown",
   "metadata": {
    "colab_type": "text",
    "id": "bBmZ1bg3wCeC"
   },
   "source": [
    "#### 15. Now we want to label the values in *d*. First create an empty array *f* with the same shape (i.e. 2x3x5) as *d* using `np.empty`.\n"
   ]
  },
  {
   "cell_type": "code",
   "execution_count": 265,
   "metadata": {
    "colab": {},
    "colab_type": "code",
    "id": "GVU7znV7wCeD"
   },
   "outputs": [
    {
     "data": {
      "text/plain": [
       "array([[[1.57602055, 1.84393233, 1.25696653, 1.71244133, 1.74727579],\n",
       "        [1.74831449, 1.66928486, 1.6512054 , 1.93586804, 1.66729981],\n",
       "        [1.03733562, 1.82027444, 1.26341584, 1.68382734, 1.22448658]],\n",
       "\n",
       "       [[1.37133543, 1.36042805, 1.58137449, 1.83027349, 1.20150426],\n",
       "        [1.57289092, 1.80028221, 1.76941131, 1.21039955, 1.30952289],\n",
       "        [1.71946101, 1.10541037, 1.62444615, 1.2524541 , 1.84429406]]])"
      ]
     },
     "execution_count": 265,
     "metadata": {},
     "output_type": "execute_result"
    }
   ],
   "source": [
    "# your code here\n",
    "\n",
    "f = np.empty((2,3,5))\n",
    "f"
   ]
  },
  {
   "cell_type": "markdown",
   "metadata": {
    "colab_type": "text",
    "id": "cwZMaPTawCeG"
   },
   "source": [
    "#### 16. Populate the values in *f*. \n",
    "\n",
    "For each value in *d*, if it's larger than *d_min* but smaller than *d_mean*, assign 25 to the corresponding value in *f*. If a value in *d* is larger than *d_mean* but smaller than *d_max*, assign 75 to the corresponding value in *f*. If a value equals to *d_mean*, assign 50 to the corresponding value in *f*. Assign 0 to the corresponding value(s) in *f* for *d_min* in *d*. Assign 100 to the corresponding value(s) in *f* for *d_max* in *d*. In the end, f should have only the following values: 0, 25, 50, 75, and 100.\n",
    "\n",
    "**Note**: you don't have to use Numpy in this question."
   ]
  },
  {
   "cell_type": "code",
   "execution_count": 274,
   "metadata": {},
   "outputs": [],
   "source": [
    "lst = []\n",
    "\n",
    "for lst1 in d:\n",
    "    for lst2 in lst1:\n",
    "        for n in lst2:\n",
    "            if n > d_min and n < d_mean:\n",
    "                n = 25\n",
    "            elif n > d_mean and n < d_max:\n",
    "                n = 75\n",
    "            elif n == d_mean:\n",
    "                n = 50\n",
    "            elif n == d_min:\n",
    "                n = 0\n",
    "            elif n == d_max:\n",
    "                n = 100\n",
    "            lst.append(n)\n",
    "\n",
    "f = np.reshape(lst, (2,3,5))\n"
   ]
  },
  {
   "cell_type": "markdown",
   "metadata": {
    "colab_type": "text",
    "id": "DtXatajMwCeM"
   },
   "source": [
    "# 17. Print *d* and *f*. Do you have your expected *f*?\n",
    "For instance, if your *d* is:\n",
    "```python\n",
    "[[[1.85836099, 1.67064465, 1.62576044, 1.40243961, 1.88454931],\n",
    "[1.75354326, 1.69403643, 1.36729252, 1.61415071, 1.12104981],\n",
    "[1.72201435, 1.1862918 , 1.87078449, 1.7726778 , 1.88180042]],\n",
    "[[1.44747908, 1.31673383, 1.02000951, 1.52218947, 1.97066381],\n",
    "[1.79129243, 1.74983003, 1.96028037, 1.85166831, 1.65450881],\n",
    "[1.18068344, 1.9587381 , 1.00656599, 1.93402165, 1.73514584]]]\n",
    "```\n",
    "Your *f* should be:\n",
    "```python\n",
    "[[[ 75.,  75.,  75.,  25.,  75.],\n",
    "[ 75.,  75.,  25.,  25.,  25.],\n",
    "[ 75.,  25.,  75.,  75.,  75.]],\n",
    "[[ 25.,  25.,  25.,  25., 100.],\n",
    "[ 75.,  75.,  75.,  75.,  75.],\n",
    "[ 25.,  75.,   0.,  75.,  75.]]]\n",
    "```"
   ]
  },
  {
   "cell_type": "code",
   "execution_count": 275,
   "metadata": {
    "colab": {},
    "colab_type": "code",
    "id": "wvC83zaUwCeN"
   },
   "outputs": [
    {
     "name": "stdout",
     "output_type": "stream",
     "text": [
      "[[[1.57602055 1.84393233 1.25696653 1.71244133 1.74727579]\n",
      "  [1.74831449 1.66928486 1.6512054  1.93586804 1.66729981]\n",
      "  [1.03733562 1.82027444 1.26341584 1.68382734 1.22448658]]\n",
      "\n",
      " [[1.37133543 1.36042805 1.58137449 1.83027349 1.20150426]\n",
      "  [1.57289092 1.80028221 1.76941131 1.21039955 1.30952289]\n",
      "  [1.71946101 1.10541037 1.62444615 1.2524541  1.84429406]]]\n",
      "\n",
      "\n",
      "\n",
      "\n",
      "[[[ 75  75  25  75  75]\n",
      "  [ 75  75  75 100  75]\n",
      "  [  0  75  25  75  25]]\n",
      "\n",
      " [[ 25  25  75  75  25]\n",
      "  [ 75  75  75  25  25]\n",
      "  [ 75  25  75  25  75]]]\n"
     ]
    }
   ],
   "source": [
    "# your code here\n",
    "\n",
    "print(d)\n",
    "print('\\n' * 3)\n",
    "print(f)"
   ]
  },
  {
   "cell_type": "markdown",
   "metadata": {
    "colab_type": "text",
    "id": "ppRoFFJBwCeS"
   },
   "source": [
    "#### 18. Bonus question: instead of using numbers (i.e. 0, 25, 50, 75, and 100), use string values  (\"A\", \"B\", \"C\", \"D\", and \"E\") to label the array elements. For the example above, the expected result is:\n",
    "\n",
    "```python\n",
    "[[[ 'D',  'D',  'D',  'B',  'D'],\n",
    "[ 'D',  'D',  'B',  'B',  'B'],\n",
    "[ 'D',  'B',  'D',  'D',  'D']],\n",
    "[[ 'B',  'B',  'B',  'B',  'E'],\n",
    "[ 'D',  'D',  'D',  'D',  'D'],\n",
    "[ 'B',  'D',   'A',  'D', 'D']]]\n",
    "```\n",
    "**Note**: you don't have to use Numpy in this question."
   ]
  },
  {
   "cell_type": "code",
   "execution_count": 276,
   "metadata": {
    "colab": {},
    "colab_type": "code",
    "id": "xbBNSrnCwCeU"
   },
   "outputs": [],
   "source": [
    "# your code here\n",
    "\n",
    "lst = []\n",
    "\n",
    "for lst1 in d:\n",
    "    for lst2 in lst1:\n",
    "        for n in lst2:\n",
    "            if n > d_min and n < d_mean:\n",
    "                n = 'A'\n",
    "            elif n > d_mean and n < d_max:\n",
    "                n = 'B'\n",
    "            elif n == d_mean:\n",
    "                n = 'C'\n",
    "            elif n == d_min:\n",
    "                n = 'D'\n",
    "            elif n == d_max:\n",
    "                n = 'E'\n",
    "            lst.append(n)\n",
    "\n",
    "f = np.reshape(lst, (2,3,5))"
   ]
  },
  {
   "cell_type": "code",
   "execution_count": 279,
   "metadata": {},
   "outputs": [
    {
     "name": "stdout",
     "output_type": "stream",
     "text": [
      "[[['B' 'B' 'A' 'B' 'B']\n",
      "  ['B' 'B' 'B' 'E' 'B']\n",
      "  ['D' 'B' 'A' 'B' 'A']]\n",
      "\n",
      " [['A' 'A' 'B' 'B' 'A']\n",
      "  ['B' 'B' 'B' 'A' 'A']\n",
      "  ['B' 'A' 'B' 'A' 'B']]]\n"
     ]
    }
   ],
   "source": [
    "print(f)"
   ]
  },
  {
   "cell_type": "code",
   "execution_count": null,
   "metadata": {},
   "outputs": [],
   "source": []
  }
 ],
 "metadata": {
  "colab": {
   "name": "main.ipynb",
   "provenance": []
  },
  "kernelspec": {
   "display_name": "Python 3",
   "language": "python",
   "name": "python3"
  },
  "language_info": {
   "codemirror_mode": {
    "name": "ipython",
    "version": 3
   },
   "file_extension": ".py",
   "mimetype": "text/x-python",
   "name": "python",
   "nbconvert_exporter": "python",
   "pygments_lexer": "ipython3",
   "version": "3.7.4"
  },
  "toc": {
   "base_numbering": 1,
   "nav_menu": {},
   "number_sections": true,
   "sideBar": true,
   "skip_h1_title": false,
   "title_cell": "Table of Contents",
   "title_sidebar": "Contents",
   "toc_cell": false,
   "toc_position": {},
   "toc_section_display": true,
   "toc_window_display": false
  },
  "varInspector": {
   "cols": {
    "lenName": 16,
    "lenType": 16,
    "lenVar": 40
   },
   "kernels_config": {
    "python": {
     "delete_cmd_postfix": "",
     "delete_cmd_prefix": "del ",
     "library": "var_list.py",
     "varRefreshCmd": "print(var_dic_list())"
    },
    "r": {
     "delete_cmd_postfix": ") ",
     "delete_cmd_prefix": "rm(",
     "library": "var_list.r",
     "varRefreshCmd": "cat(var_dic_list()) "
    }
   },
   "types_to_exclude": [
    "module",
    "function",
    "builtin_function_or_method",
    "instance",
    "_Feature"
   ],
   "window_display": false
  }
 },
 "nbformat": 4,
 "nbformat_minor": 1
}
