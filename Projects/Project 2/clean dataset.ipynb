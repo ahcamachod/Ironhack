{
 "cells": [
  {
   "cell_type": "markdown",
   "metadata": {},
   "source": [
    "# Importing Libraries"
   ]
  },
  {
   "cell_type": "code",
   "execution_count": 583,
   "metadata": {},
   "outputs": [],
   "source": [
    "import pandas as pd\n",
    "import re\n",
    "import numpy as np\n",
    "from IPython.display import display"
   ]
  },
  {
   "cell_type": "markdown",
   "metadata": {},
   "source": [
    "# Reading CSV"
   ]
  },
  {
   "cell_type": "code",
   "execution_count": 584,
   "metadata": {},
   "outputs": [],
   "source": [
    "shark_attack = pd.read_csv('data/GSAF5.csv', encoding='latin')\n",
    "shark_attack = shark_attack.drop(columns=['Unnamed: 22', 'Unnamed: 23'])"
   ]
  },
  {
   "cell_type": "code",
   "execution_count": 585,
   "metadata": {},
   "outputs": [],
   "source": [
    "# limpar (date, sexo, fatal) time, injury, activity\n",
    "#categorizar time, injuries, activity"
   ]
  },
  {
   "cell_type": "markdown",
   "metadata": {},
   "source": [
    "# Categorizing body parts"
   ]
  },
  {
   "cell_type": "code",
   "execution_count": 586,
   "metadata": {},
   "outputs": [],
   "source": [
    "def list_to_pattern(lst : list):\n",
    "    '''\n",
    "    The function receives a list of body part words and returns a regex pattern.\n",
    "    \n",
    "    Parameters:\n",
    "    lst (list): List of body part words\n",
    "\n",
    "    Returns:\n",
    "    string: Returning regex pattern\n",
    "    '''\n",
    "    \n",
    "    pattern = ''\n",
    "    for word in lst:\n",
    "        pattern += word + '|'\n",
    "    pattern = pattern[:-1]\n",
    "    return pattern"
   ]
  },
  {
   "cell_type": "code",
   "execution_count": 587,
   "metadata": {},
   "outputs": [],
   "source": [
    "arm = ['hand', 'arm', 'forearm', 'wrist', 'shoulder', 'elbow', 'finger']\n",
    "leg = ['ankle','knee','foot','feet','thigh','leg','calf','buttock','pelvis', 'shin', 'heel', 'toe']\n",
    "head = ['head','neck','face', 'ear', 'nose', 'mouth']\n",
    "torso = ['torso','chest', 'back']\n",
    "fatal = ['fatal', 'death', 'kill']"
   ]
  },
  {
   "cell_type": "code",
   "execution_count": 588,
   "metadata": {},
   "outputs": [],
   "source": [
    "arm_pattern = list_to_pattern(arm)\n",
    "leg_pattern = list_to_pattern(leg)\n",
    "head_pattern = list_to_pattern(head)\n",
    "torso_pattern = list_to_pattern(torso)\n",
    "fatal_pattern = list_to_pattern(fatal)"
   ]
  },
  {
   "cell_type": "code",
   "execution_count": 589,
   "metadata": {},
   "outputs": [],
   "source": [
    "shark_attack['Arm'] = 0\n",
    "shark_attack['Leg'] = 0\n",
    "shark_attack['Head'] = 0\n",
    "shark_attack['Torso'] = 0"
   ]
  },
  {
   "cell_type": "code",
   "execution_count": 590,
   "metadata": {},
   "outputs": [],
   "source": [
    "l = -1\n",
    "\n",
    "for injury in shark_attack['Injury']:\n",
    "    a = f'{injury}'\n",
    "    lst_arm_parts = re.findall(arm_pattern, a, flags=re.I)\n",
    "    lst_leg_parts = re.findall(leg_pattern, a, flags=re.I)\n",
    "    lst_head_parts = re.findall(head_pattern, a, flags=re.I)\n",
    "    lst_torso_parts = re.findall(torso_pattern, a, flags=re.I)\n",
    "    lst_fatal = re.findall(fatal_pattern, a, flags=re.I)\n",
    "    l += 1\n",
    "    if len(lst_arm_parts) > 0:\n",
    "        shark_attack['Arm'].update(pd.Series([1], index=[l]))\n",
    "    if len(lst_leg_parts) > 0:\n",
    "        shark_attack['Leg'].update(pd.Series([1], index=[l]))\n",
    "    if len(lst_head_parts) > 0:\n",
    "        shark_attack['Head'].update(pd.Series([1], index=[l]))\n",
    "    if len(lst_torso_parts) > 0:\n",
    "        shark_attack['Torso'].update(pd.Series([1], index=[l]))"
   ]
  },
  {
   "cell_type": "code",
   "execution_count": 591,
   "metadata": {},
   "outputs": [
    {
     "data": {
      "text/plain": [
       "2505"
      ]
     },
     "execution_count": 591,
     "metadata": {},
     "output_type": "execute_result"
    }
   ],
   "source": [
    "shark_attack['Leg'].sum()"
   ]
  },
  {
   "cell_type": "code",
   "execution_count": 592,
   "metadata": {},
   "outputs": [
    {
     "data": {
      "text/plain": [
       "1101"
      ]
     },
     "execution_count": 592,
     "metadata": {},
     "output_type": "execute_result"
    }
   ],
   "source": [
    "shark_attack['Arm'].sum()"
   ]
  },
  {
   "cell_type": "code",
   "execution_count": 593,
   "metadata": {},
   "outputs": [
    {
     "data": {
      "text/plain": [
       "403"
      ]
     },
     "execution_count": 593,
     "metadata": {},
     "output_type": "execute_result"
    }
   ],
   "source": [
    "shark_attack['Head'].sum()"
   ]
  },
  {
   "cell_type": "code",
   "execution_count": 594,
   "metadata": {},
   "outputs": [
    {
     "data": {
      "text/plain": [
       "182"
      ]
     },
     "execution_count": 594,
     "metadata": {},
     "output_type": "execute_result"
    }
   ],
   "source": [
    "shark_attack['Torso'].sum()"
   ]
  },
  {
   "cell_type": "code",
   "execution_count": null,
   "metadata": {},
   "outputs": [],
   "source": []
  },
  {
   "cell_type": "code",
   "execution_count": null,
   "metadata": {},
   "outputs": [],
   "source": []
  }
 ],
 "metadata": {
  "kernelspec": {
   "display_name": "Python 3",
   "language": "python",
   "name": "python3"
  },
  "language_info": {
   "codemirror_mode": {
    "name": "ipython",
    "version": 3
   },
   "file_extension": ".py",
   "mimetype": "text/x-python",
   "name": "python",
   "nbconvert_exporter": "python",
   "pygments_lexer": "ipython3",
   "version": "3.7.4"
  },
  "toc": {
   "base_numbering": 1,
   "nav_menu": {},
   "number_sections": true,
   "sideBar": true,
   "skip_h1_title": false,
   "title_cell": "Table of Contents",
   "title_sidebar": "Contents",
   "toc_cell": false,
   "toc_position": {},
   "toc_section_display": true,
   "toc_window_display": false
  },
  "varInspector": {
   "cols": {
    "lenName": 16,
    "lenType": 16,
    "lenVar": 40
   },
   "kernels_config": {
    "python": {
     "delete_cmd_postfix": "",
     "delete_cmd_prefix": "del ",
     "library": "var_list.py",
     "varRefreshCmd": "print(var_dic_list())"
    },
    "r": {
     "delete_cmd_postfix": ") ",
     "delete_cmd_prefix": "rm(",
     "library": "var_list.r",
     "varRefreshCmd": "cat(var_dic_list()) "
    }
   },
   "types_to_exclude": [
    "module",
    "function",
    "builtin_function_or_method",
    "instance",
    "_Feature"
   ],
   "window_display": false
  }
 },
 "nbformat": 4,
 "nbformat_minor": 2
}
